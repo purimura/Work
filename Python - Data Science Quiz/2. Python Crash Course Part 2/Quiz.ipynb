{
 "cells": [
  {
   "cell_type": "markdown",
   "metadata": {},
   "source": [
    "<h1>Quiz</h1>"
   ]
  },
  {
   "cell_type": "markdown",
   "metadata": {},
   "source": [
    "1. เขียนโปรแกรมรับ input จากผู้ใช้ 1 ตัว แปลงให้เป็น int และตรวจสอบว่าเป็นเลขคู่หรือเลขคี่\n",
    "    - หากเป็นเลขคู่ ให้พิมพ์ว่า เลขคู่\n",
    "    - หากเป็นเลขคี่ ให้พิมพ์ว่า เลขคี่\n",
    "    - หากเป็นเลขศูนย์ให้พิมพ์ว่า เลขศูนย์"
   ]
  },
  {
   "cell_type": "code",
   "execution_count": 12,
   "metadata": {},
   "outputs": [
    {
     "name": "stdout",
     "output_type": "stream",
     "text": [
      "กรุณาใส่ตัวเลข: 0\n",
      "เลขศูนย์\n"
     ]
    }
   ],
   "source": [
    "x = int(input('กรุณาใส่ตัวเลข: '))\n",
    "if (x == 0):\n",
    "    print('เลขศูนย์')\n",
    "elif (x % 2 == 0):\n",
    "    print('เลขคู่')\n",
    "else:\n",
    "    print('เลขคี่')"
   ]
  },
  {
   "cell_type": "markdown",
   "metadata": {},
   "source": [
    "2. เขียนโปรแกรมรับค่า input 2 ตัว ในรูปแบบ float โดยให้ตัวแรกเป็นตัวตั้งตัวที่สองเป็นตัวหาร\n",
    "    - หาผลลัพธ์ของการหาร\n",
    "    - ใส่เลขทศนิยมได้\n",
    "    - ถ้าตัวหารเป็น 0 ให้รับค่าใหม่จนกว่าจะเป็นเลขที่หารได้"
   ]
  },
  {
   "cell_type": "code",
   "execution_count": 6,
   "metadata": {},
   "outputs": [
    {
     "name": "stdout",
     "output_type": "stream",
     "text": [
      "First number: 77\n",
      "Second number: 0\n",
      "กรุณาใส่ตัวหารใหม่: 8\n",
      "9.625\n"
     ]
    }
   ],
   "source": [
    "a = float(input('First number: '))\n",
    "b = float(input('Second number: '))\n",
    "while (b == 0):\n",
    "    b = float(input('กรุณาใส่ตัวหารใหม่: '))\n",
    "result = a / b\n",
    "print(result)"
   ]
  },
  {
   "cell_type": "markdown",
   "metadata": {},
   "source": [
    "3. เขียนโปรแกรม infinity while loop โดยรับค่า input มาเรื่อยๆ จนกว่าผู้ใช้จะใส่เลข 0 และนำเลขทั้งหมดมาหาค่าเฉลี่ย"
   ]
  },
  {
   "cell_type": "code",
   "execution_count": 21,
   "metadata": {},
   "outputs": [
    {
     "name": "stdout",
     "output_type": "stream",
     "text": [
      "กรุณาใส่ตัวเลข: 50\n",
      "กรุณาใส่ตัวเลข: 40\n",
      "กรุณาใส่ตัวเลข: 0\n",
      "Average is 45.0\n"
     ]
    }
   ],
   "source": [
    "x = 0\n",
    "count = 0\n",
    "while True:\n",
    "    temp = float(input('กรุณาใส่ตัวเลข: '))\n",
    "    if (temp == 0):\n",
    "        break\n",
    "    x += temp\n",
    "    count += 1\n",
    "if (count == 0):\n",
    "    print('Average is 0')\n",
    "else:\n",
    "    print('Average is', x / count)"
   ]
  },
  {
   "cell_type": "markdown",
   "metadata": {},
   "source": [
    "4. เขียนโปรแกรมรับค่า input ที่เป็น integer มาหนึ่งตัว ตรวจสอบว่าเลขนั้นหาร 7 ลงตัวหรือไม่\n",
    "    - ถ้าหารลงตัว ให้ปริ้น 'หาร 7 ลงตัว'\n",
    "    - ถ้าหารไม่ลงตัว ให้ปริ้น 'หาร 7 ไม่ลงตัว'"
   ]
  },
  {
   "cell_type": "code",
   "execution_count": 12,
   "metadata": {},
   "outputs": [
    {
     "name": "stdout",
     "output_type": "stream",
     "text": [
      "กรุณาใส่ตัวเลข: -21\n",
      "หาร 7 ลงตัว\n"
     ]
    }
   ],
   "source": [
    "x = int(input('กรุณาใส่ตัวเลข: '))\n",
    "if (x % 7 == 0):\n",
    "    print('หาร 7 ลงตัว')\n",
    "else:\n",
    "    print('หาร 7 ไม่ลงตัว')"
   ]
  },
  {
   "cell_type": "markdown",
   "metadata": {},
   "source": [
    "5. เขียนโปรแกรมรับค่า int มา 3 จำนวน และตรวจสอบว่า 3 เลขนั้นสามารถนำมาสร้าง 3 เหลี่ยมมุมฉากได้หรือไม่"
   ]
  },
  {
   "cell_type": "code",
   "execution_count": 17,
   "metadata": {},
   "outputs": [
    {
     "name": "stdout",
     "output_type": "stream",
     "text": [
      "First number: 5\n",
      "Second number: 4\n",
      "Third number: 3\n",
      "สร้าง 3 เหลี่ยมมุมฉากได้\n"
     ]
    }
   ],
   "source": [
    "tri = list()\n",
    "tri.append(int(input('First number: ')))\n",
    "tri.append(int(input('Second number: ')))\n",
    "tri.append(int(input('Third number: ')))\n",
    "tri = sorted(tri)\n",
    "if (tri[0]**2 + tri[1]**2 == tri[2]**2):\n",
    "    print('สร้าง 3 เหลี่ยมมุมฉากได้')\n",
    "else:\n",
    "    print('สร้าง 3 เหลี่ยมมุมฉากไม่ได้')"
   ]
  },
  {
   "cell_type": "markdown",
   "metadata": {},
   "source": [
    "6. เขียนโปรแกรมรับค่า int มา 3 จำนวน และตรวจสอบว่าเมื่อนำ 3 เลขนั้นมาสร้าง 3 เหลี่ยม จะได้สามเหลี่ยมแบบใด\n",
    "    - สามเหลี่ยมมุมแหลม\n",
    "    - สามเหลี่ยมมุมป้าน\n",
    "    - สามเหลี่ยมมุมฉาก"
   ]
  },
  {
   "cell_type": "code",
   "execution_count": 28,
   "metadata": {},
   "outputs": [
    {
     "name": "stdout",
     "output_type": "stream",
     "text": [
      "First number: 6\n",
      "Second number: 4\n",
      "Third number: 8\n",
      "สามเหลี่ยมมุมป้าน\n"
     ]
    }
   ],
   "source": [
    "tri = list()\n",
    "tri.append(int(input('First number: ')))\n",
    "tri.append(int(input('Second number: ')))\n",
    "tri.append(int(input('Third number: ')))\n",
    "tri = sorted(tri)\n",
    "if (tri[0] + tri[1] <= tri[2]):\n",
    "    print('ไม่สามารถสร้างสามเหลี่ยมได้')\n",
    "elif (tri[0]**2 + tri[1]**2 == tri[2]**2):\n",
    "    print('สามเหลี่ยมมุมฉาก')\n",
    "elif (tri[0]**2 + tri[1]**2 < tri[2]**2):\n",
    "    print('สามเหลี่ยมมุมป้าน')\n",
    "else:\n",
    "    print('สามเหลี่ยมมุมแหลม')"
   ]
  },
  {
   "cell_type": "markdown",
   "metadata": {},
   "source": [
    "7. เขี่ยนโปรแกรมให้รับค่าอาหาร 3 ครั้งที่ไปทานอาหารนอกบ้านล่าสุด โดยแต่ละครั้งต้องไม่ต่ำกว่า 1,000 และไม่เกิน 5,000 (ผู้ใช้ต้องใส่อยู่ในช่วงนี้) และนำค่าอาหารทั้ง 3 ตนั้งมาบวกกัน หากเกิน 6,000 บาท จะได้รับส่วนลด 15% หากเกิน 12,000 จะได้รับส่วนลด 25 % จงหายอดเงินสุดท้ายที่ต้องจ่าย"
   ]
  },
  {
   "cell_type": "code",
   "execution_count": 18,
   "metadata": {},
   "outputs": [
    {
     "name": "stdout",
     "output_type": "stream",
     "text": [
      "กรุณาใส่ค่าอาหารครั้งที่ 1:1000\n",
      "กรุณาใส่ค่าอาหารครั้งที่ 2:1200\n",
      "กรุณาใส่ค่าอาหารครั้งที่ 3:1300\n",
      "ค่าอาหาร 3500.0 บาท\n"
     ]
    }
   ],
   "source": [
    "bill = 0\n",
    "for i in range(3):\n",
    "    temp = float(input(f'กรุณาใส่ค่าอาหารครั้งที่ {i+1}:'))\n",
    "    while (temp < 1000 or temp > 5000):\n",
    "        temp = float(input(f'กรุณาใส่ค่าอาหารครั้งที่ {i+1} ใหม่:'))\n",
    "    bill += temp\n",
    "if (bill > 12000):\n",
    "    print(f'ค่าอาหาร {bill} บาท\\nได้รับส่วนลด {bill*0.25} บาท\\nค่าอาหารสุทธิ {bill-(bill*0.25)} บาท')\n",
    "elif (bill > 6000):\n",
    "    print(f'ค่าอาหาร {bill} บาท\\nได้รับส่วนลด {bill*0.15} บาท\\nค่าอาหารสุทธิ {bill-(bill*0.15)} บาท')\n",
    "else:\n",
    "    print(f'ค่าอาหาร {bill} บาท')"
   ]
  },
  {
   "cell_type": "markdown",
   "metadata": {},
   "source": [
    "8. เขียนโปรแกรมให้รับค่าอาหาร 4 ครั้งที่ไปทานอาหารนอกบ้านล่าสุด โดยแต่ละครั้งต้องไม่ต่ำกว่า 1,000 และไม่เกิน 5,000 (ผู้ใช้ต้องใส่อยู่ในช่วงนี้) และนำค่าอาหาร 3 ครั้งแรกมาบวกกัน หากเกิน 6,000 บาท จะได้รับส่วนลด 15% หากเกิน 12,000 จะได้รับส่วนลด 25% ของมื้อที่ 4 จงหายอดเงินสุดท้ายที่ต้องจ่ายของมื้อที่ 4"
   ]
  },
  {
   "cell_type": "code",
   "execution_count": 2,
   "metadata": {},
   "outputs": [
    {
     "name": "stdout",
     "output_type": "stream",
     "text": [
      "กรุณาใส่ค่าอาหารครั้งที่ 1:3500\n",
      "กรุณาใส่ค่าอาหารครั้งที่ 2:4500\n",
      "กรุณาใส่ค่าอาหารครั้งที่ 3:5000\n",
      "กรุณาใส่ค่าอาหารครั้งที่ 4:5000\n",
      "ค่าอาหาร 3 ครั้งแรก 13000.0 บาท\n",
      "ได้รับส่วนลด 25% ในครั้งที่ 4 จำนวน 1250.0 บาท\n",
      "ค่าอาหารครั้งที่ 4 สุทธิ 3750.0 บาท\n"
     ]
    }
   ],
   "source": [
    "bill = list()\n",
    "for i in range(4):\n",
    "    temp = float(input(f'กรุณาใส่ค่าอาหารครั้งที่ {i+1}:'))\n",
    "    while (temp < 1000 or temp > 5000):\n",
    "        temp = float(input(f'กรุณาใส่ค่าอาหารครั้งที่ {i+1} ใหม่:'))\n",
    "    bill.append(temp)\n",
    "if (sum(bill[:3]) > 12000):\n",
    "    print(f'ค่าอาหาร 3 ครั้งแรก {sum(bill[:3])} บาท\\n' \\\n",
    "    f'ได้รับส่วนลด 25% ในครั้งที่ 4 จำนวน {bill[3]*0.25} บาท\\nค่าอาหารครั้งที่ 4 สุทธิ {bill[3]-(bill[3]*0.25)} บาท')\n",
    "elif (sum(bill[:3]) > 6000):\n",
    "    print(f'ค่าอาหาร 3 ครั้งแรก {sum(bill[:3])} บาท\\n' \\\n",
    "    f'ได้รับส่วนลด 15% ในครั้งที่ 4 จำนวน {bill[3]*0.15} บาท\\nค่าอาหารครั้งที่ 4 สุทธิ {bill[3]-(bill[3]*0.15)} บาท')\n",
    "else:\n",
    "    print(f'ค่าอาหาร 3 ครั้งแรก {sum(bill[:3])} บาท\\nค่าอาหารครั้งที่ 4 สุทธิ {bill[3]} บาท')"
   ]
  },
  {
   "cell_type": "markdown",
   "metadata": {},
   "source": [
    "9. เขียนโปรแกรมให้รับค่าอาหาร 4 ครั้งที่ไปทานอาหารนอกบ้านล่าสุด โดยแต่ละครั้งต้องไม่ต่ำกว่า 1,000 และไม่เกิน 5,000 (เขียนให้ผู้ใช้ใส่ใหม่หากไม่อยู่ในช่วงที่กำหนด) และนำค่าอาหาร 3 ครั้งแรกมาบวกกัน หากเกิน 4,000 บาทจะได้รับส่วนลด 25 % หากเกิน 9,000 จะได้รับส่วนลด 30% ของมื้อที่ 4 จงหายอดเงินสุดท้ายที่ต้องจ่ายของมื้อที่ 4"
   ]
  },
  {
   "cell_type": "code",
   "execution_count": 3,
   "metadata": {},
   "outputs": [
    {
     "name": "stdout",
     "output_type": "stream",
     "text": [
      "กรุณาใส่ค่าอาหารครั้งที่ 1:3500\n",
      "กรุณาใส่ค่าอาหารครั้งที่ 2:4500\n",
      "กรุณาใส่ค่าอาหารครั้งที่ 3:5000\n",
      "กรุณาใส่ค่าอาหารครั้งที่ 4:5000\n",
      "ค่าอาหาร 3 ครั้งแรก 13000.0 บาท\n",
      "ได้รับส่วนลด 30% ในครั้งที่ 4 จำนวน 1500.0 บาท\n",
      "ค่าอาหารครั้งที่ 4 สุทธิ 3500.0 บาท\n"
     ]
    }
   ],
   "source": [
    "bill = list()\n",
    "for i in range(4):\n",
    "    temp = float(input(f'กรุณาใส่ค่าอาหารครั้งที่ {i+1}:'))\n",
    "    while (temp < 1000 or temp > 5000):\n",
    "        temp = float(input(f'กรุณาใส่ค่าอาหารครั้งที่ {i+1} ใหม่:'))\n",
    "    bill.append(temp)\n",
    "if (sum(bill[:3]) > 9000):\n",
    "    print(f'ค่าอาหาร 3 ครั้งแรก {sum(bill[:3])} บาท\\n' \\\n",
    "    f'ได้รับส่วนลด 30% ในครั้งที่ 4 จำนวน {bill[3]*0.3} บาท\\nค่าอาหารครั้งที่ 4 สุทธิ {bill[3]-(bill[3]*0.3)} บาท')\n",
    "elif (sum(bill[:3]) > 4000):\n",
    "    print(f'ค่าอาหาร 3 ครั้งแรก {sum(bill[:3])} บาท\\n' \\\n",
    "    f'ได้รับส่วนลด 25% ในครั้งที่ 4 จำนวน {bill[3]*0.25} บาท\\nค่าอาหารครั้งที่ 4 สุทธิ {bill[3]-(bill[3]*0.25)} บาท')\n",
    "else:\n",
    "    print(f'ค่าอาหาร 3 ครั้งแรก {sum(bill[:3])} บาท\\nค่าอาหารครั้งที่ 4 สุทธิ {bill[3]} บาท')"
   ]
  },
  {
   "cell_type": "markdown",
   "metadata": {},
   "source": [
    "10. เขียนโปรแกรมให้รับค่าอาหาร 4 ครั้งที่ไปทานอาหารนอกบ้านล่าสุด โดยแต่ละครั้งต้องไม่ต่ำกว่า 1,000 และไม่เกิน 5,000 (เขียนให้ผู้ใช้ใส่ใหม่หากไม่อยู่ในช่วงที่กำหนด) และถามผู้ใช้มีบัตรเครดิตหรือไม่(True/False) นำค่าอาหาร 3 ครั้งแรกมาบวกกัน หากเกิน 4,000 บาท จะได้รับส่วนลด 25 % หากเกิน 9,000 จะได้รับส่วนลด 30% ของมื้อที่ 4 หากมีบัตรเครดิต ลดเพิ่มอีก 5% จงหายอดเงินสุดท้ายที่ต้องจ่ายของมื้อที่ 4"
   ]
  },
  {
   "cell_type": "code",
   "execution_count": 4,
   "metadata": {},
   "outputs": [
    {
     "name": "stdout",
     "output_type": "stream",
     "text": [
      "กรุณาใส่ค่าอาหารครั้งที่ 1:3500\n",
      "กรุณาใส่ค่าอาหารครั้งที่ 2:4500\n",
      "กรุณาใส่ค่าอาหารครั้งที่ 3:5000\n",
      "กรุณาใส่ค่าอาหารครั้งที่ 4:5000\n",
      "มีบัตรเครดิตหรือไม่: Yes\n",
      "ค่าอาหาร 3 ครั้งแรก 13000.0 บาท\n",
      "ได้รับส่วนลด 30% ในครั้งที่ 4 จำนวน 1500.0 บาท\n",
      "ได้รับส่วนลดบัตรเครดิต 5% ในครั้งที่ 4 จำนวน 250.0 บาท\n",
      "ค่าอาหารครั้งที่ 4 สุทธิ 3250.0 บาท\n"
     ]
    }
   ],
   "source": [
    "bill = list()\n",
    "for i in range(4):\n",
    "    temp = float(input(f'กรุณาใส่ค่าอาหารครั้งที่ {i+1}:'))\n",
    "    while (temp < 1000 or temp > 5000):\n",
    "        temp = float(input(f'กรุณาใส่ค่าอาหารครั้งที่ {i+1} ใหม่:'))\n",
    "    bill.append(temp)\n",
    "if input('มีบัตรเครดิตหรือไม่: ').lower() in ['มี', 'y', 'yes', 't', 'true']:\n",
    "    credit = True\n",
    "else:\n",
    "    credit = False\n",
    "if (sum(bill[:3]) > 9000):\n",
    "    print(f'ค่าอาหาร 3 ครั้งแรก {sum(bill[:3])} บาท\\nได้รับส่วนลด 30% ในครั้งที่ 4 จำนวน {bill[3]*0.3} บาท')\n",
    "    if credit == True:\n",
    "        print(f'ได้รับส่วนลดบัตรเครดิต 5% ในครั้งที่ 4 จำนวน {bill[3]*0.05} บาท\\nค่าอาหารครั้งที่ 4 สุทธิ {bill[3]-(bill[3]*0.35)} บาท')\n",
    "    else:\n",
    "        print(f'ค่าอาหารครั้งที่ 4 สุทธิ {bill[3]-(bill[3]*0.3)} บาท')\n",
    "elif (sum(bill[:3]) > 4000):\n",
    "    print(f'ค่าอาหาร 3 ครั้งแรก {sum(bill[:3])} บาท\\nได้รับส่วนลด 25% ในครั้งที่ 4 จำนวน {bill[3]*0.25} บาท')\n",
    "    if credit == True:\n",
    "        print(f'ได้รับส่วนลดบัตรเครดิต 5% ในครั้งที่ 4 จำนวน {bill[3]*0.05} บาท\\nค่าอาหารครั้งที่ 4 สุทธิ {bill[3]-(bill[3]*0.3)} บาท')\n",
    "    else:\n",
    "        print(f'ค่าอาหารครั้งที่ 4 สุทธิ {bill[3]-(bill[3]*0.25)} บาท')\n",
    "else:\n",
    "    print(f'ค่าอาหาร 3 ครั้งแรก {sum(bill[:3])} บาท')\n",
    "    if credit == True:\n",
    "        print(f'ได้รับส่วนลดบัตรเครดิต 5% ในครั้งที่ 4 จำนวน {bill[3]*0.05} บาท\\nค่าอาหารครั้งที่ 4 สุทธิ {bill[3]-(bill[3]*0.05)} บาท')\n",
    "    else:\n",
    "        print(f'ค่าอาหารครั้งที่ 4 สุทธิ {bill[3]} บาท')"
   ]
  },
  {
   "cell_type": "markdown",
   "metadata": {},
   "source": [
    "11. จงเขียนโปรแกรมรับ input ที่เป็นประโยคแบบ string ที่มีความยาวของคำไม่ต่ำกว่า 7 ตัวอักษรภาษาอังกฤษ(สมมติว่าเป็นคำเดียว) และมีพิมพ์ใหญ่พิมพิ์เล็กปนกัน จากนั้นให้ตรวจสอบแต่ละอักษร ให้แปลงพิมพ์ใหญ่เป็นพิมพ์เล็ก และพิมพ์เล็กเป็นพิมพ์ใหญ่พร้อมกับปริ้นออกมา"
   ]
  },
  {
   "cell_type": "code",
   "execution_count": 22,
   "metadata": {},
   "outputs": [
    {
     "name": "stdout",
     "output_type": "stream",
     "text": [
      "กรุณาใส่ข้อความ: aero\n",
      "กรุณาใส่ข้อความไม่ต่ำกว่า 7 ตัวอักษรที่มีพิมพ์ใหญ่พิมพิ์เล็กปนกัน: aeroplane\n",
      "กรุณาใส่ข้อความไม่ต่ำกว่า 7 ตัวอักษรที่มีพิมพ์ใหญ่พิมพิ์เล็กปนกัน: AEROPLANE\n",
      "กรุณาใส่ข้อความไม่ต่ำกว่า 7 ตัวอักษรที่มีพิมพ์ใหญ่พิมพิ์เล็กปนกัน: AeroPlane\n",
      "aEROpLANE\n"
     ]
    }
   ],
   "source": [
    "def checkcase(x):\n",
    "    xupper, xlower = False, False\n",
    "    for a in x:\n",
    "        if a.isupper():\n",
    "            xupper = True\n",
    "        if a.islower():\n",
    "            xlower = True\n",
    "    if (xupper == True and xlower == True):\n",
    "        return True\n",
    "    else:\n",
    "        return False\n",
    "\n",
    "convertx = ''\n",
    "x = input('กรุณาใส่ข้อความ: ')\n",
    "checkx = checkcase(x)\n",
    "while (len(x) < 7 or checkx == False):\n",
    "    x = input('กรุณาใส่ข้อความไม่ต่ำกว่า 7 ตัวอักษรที่มีพิมพ์ใหญ่พิมพิ์เล็กปนกัน: ')\n",
    "    checkx = checkcase(x)\n",
    "\n",
    "for a in x:\n",
    "    if a.isupper():\n",
    "        convertx += a.lower()\n",
    "    elif a.islower():\n",
    "        convertx += a.upper()\n",
    "    else:\n",
    "        convertx += a\n",
    "print(convertx)"
   ]
  },
  {
   "cell_type": "markdown",
   "metadata": {},
   "source": [
    "12. เขียนโปรแกรมรับ input 4 ตัวที่เป็น string จากนั้นตรวจสอบว่า input ใดมีความยาวมากที่สุด รองลงมา และน้อยที่สุด จากนั้น ปริ้นแต่ละ input ออกมาตามลำดับน้อยสุดไปมากสุด"
   ]
  },
  {
   "cell_type": "code",
   "execution_count": 20,
   "metadata": {},
   "outputs": [
    {
     "name": "stdout",
     "output_type": "stream",
     "text": [
      "กรุณาใส่ข้อความที่ 1 : ooooo\n",
      "กรุณาใส่ข้อความที่ 2 : oo\n",
      "กรุณาใส่ข้อความที่ 3 : ooooooo\n",
      "กรุณาใส่ข้อความที่ 4 : ooo\n",
      "['ooooooo', 'ooooo', 'ooo', 'oo']\n",
      "oo\n",
      "ooo\n",
      "ooooo\n",
      "ooooooo\n"
     ]
    }
   ],
   "source": [
    "word = list()\n",
    "for i in range(4):\n",
    "    word.append(input(f'กรุณาใส่ข้อความที่ {i+1} : '))\n",
    "print(sorted(word, key=len, reverse=True))\n",
    "for i in sorted(word, key=len):\n",
    "    print(i)"
   ]
  },
  {
   "cell_type": "markdown",
   "metadata": {},
   "source": [
    "13. เขียนโปรแกรมรับ input สองตัวเป็นจำนวนเต็มระหว่าง 0-60 โดยตัวแรกเป็นชั่วโมงและตัวที่สองเป็นนาที คำนวณค่าที่จอดรถถ้าชั่วโมงละ 150 บาท เศษนาทีคิดเป็นนาทีละ 2 บาท"
   ]
  },
  {
   "cell_type": "code",
   "execution_count": 27,
   "metadata": {},
   "outputs": [
    {
     "name": "stdout",
     "output_type": "stream",
     "text": [
      "กรุณาใส่ชั่วโมง: 1\n",
      "กรุณาใส่นาที: 99\n",
      "กรุณาใส่เลขนาที 0-60 : 55\n",
      "ค่าที่จอดรถ 260 บาท\n"
     ]
    }
   ],
   "source": [
    "hour = int(input('กรุณาใส่ชั่วโมง: '))\n",
    "while not (hour >= 0 and hour <= 60):\n",
    "    hour = int(input('กรุณาใส่เลขชั่วโมง 0-60 : '))\n",
    "minute = int(input('กรุณาใส่นาที: '))\n",
    "while not (minute >= 0 and minute <= 60):\n",
    "    minute = int(input('กรุณาใส่เลขนาที 0-60 : '))\n",
    "cost = 0\n",
    "cost += hour * 150\n",
    "cost += minute * 2\n",
    "print(f'ค่าที่จอดรถ {cost} บาท')"
   ]
  },
  {
   "cell_type": "markdown",
   "metadata": {},
   "source": [
    "14. เขียนโปรแกรมรับ input สองตัวเป็นจำนวนเต็มระหว่าง 0-60 โดยตัวแรกเป็นชั่วโมงและตัวที่สองเป็นนาที คำนวณค่าที่จอดรถถ้าชั่วโมงละ 300 บาท เศษนาทีเกิน 15 นาทีคิดเป็นหนึ่งชั่วโมง หากไม่เกินไม่คิดเงิน และชั่วโมงแรกจอดฟรี"
   ]
  },
  {
   "cell_type": "code",
   "execution_count": 34,
   "metadata": {},
   "outputs": [
    {
     "name": "stdout",
     "output_type": "stream",
     "text": [
      "กรุณาใส่ชั่วโมง: 1\n",
      "กรุณาใส่นาที: 16\n",
      "ค่าที่จอดรถ 300 บาท\n"
     ]
    }
   ],
   "source": [
    "hour = int(input('กรุณาใส่ชั่วโมง: '))\n",
    "while not (hour >= 0 and hour <= 60):\n",
    "    hour = int(input('กรุณาใส่เลขชั่วโมง 0-60 : '))\n",
    "minute = int(input('กรุณาใส่นาที: '))\n",
    "while not (minute >= 0 and minute <= 60):\n",
    "    minute = int(input('กรุณาใส่เลขนาที 0-60 : '))\n",
    "if (minute > 15):\n",
    "    hour += 1\n",
    "if (hour != 0):\n",
    "    hour -= 1\n",
    "cost = 0\n",
    "cost += hour * 300\n",
    "print(f'ค่าที่จอดรถ {cost} บาท')"
   ]
  },
  {
   "cell_type": "markdown",
   "metadata": {},
   "source": [
    "15. โรงละครสัตว์มีนก กับ วัว และต้องจ่ายภาษีสัตว์ 2 ขา 150 บาทต่อตัวจ่ายภาษีสัตว์ 4 ขา 220 บาทต่อตัว เขียนโปรแกรมรับค่า input สองตัว ตัวแรกเป็นผลรวมจำนวนหัวของสัตว์ ตัวที่สอง\n",
    "เป็นผลรวมจำนวนขาของสัตว์ จงหาว่าโรงละครสัตว์ต้องจ่ายภาษีเท่าใด"
   ]
  },
  {
   "cell_type": "code",
   "execution_count": 1,
   "metadata": {},
   "outputs": [
    {
     "name": "stdout",
     "output_type": "stream",
     "text": [
      "กรุณาใส่จำนวนหัวของสัตว์: 5\n",
      "กรุณาใส่จำนวนขาของสัตว์: 16\n",
      "มีนก 2 ตัวภาษี 300 บาท\n",
      "มีวัว 3 ตัวภาษี 660 บาท\n",
      "ต้องจ่ายภาษีทั้งหมด 960 บาท\n"
     ]
    }
   ],
   "source": [
    "head = int(input('กรุณาใส่จำนวนหัวของสัตว์: '))\n",
    "leg = int(input('กรุณาใส่จำนวนขาของสัตว์: '))\n",
    "if (leg >= head * 2 and leg <= head * 4 and leg % 2 == 0):\n",
    "    leftleg = leg - (head * 2)\n",
    "    cow = leftleg / 2\n",
    "    bird = head - cow\n",
    "    print(f'มีนก {int(bird)} ตัวภาษี {int(bird*150)} บาท\\nมีวัว {int(cow)} ตัวภาษี {int(cow*220)} บาท\\n' \\\n",
    "          f'ต้องจ่ายภาษีทั้งหมด {int((bird*150)+(cow*220))} บาท')\n",
    "else:\n",
    "    print('ไม่สามารถคำนวณได้')"
   ]
  },
  {
   "cell_type": "markdown",
   "metadata": {},
   "source": [
    "---"
   ]
  }
 ],
 "metadata": {
  "kernelspec": {
   "display_name": "Python 3",
   "language": "python",
   "name": "python3"
  },
  "language_info": {
   "codemirror_mode": {
    "name": "ipython",
    "version": 3
   },
   "file_extension": ".py",
   "mimetype": "text/x-python",
   "name": "python",
   "nbconvert_exporter": "python",
   "pygments_lexer": "ipython3",
   "version": "3.7.4"
  }
 },
 "nbformat": 4,
 "nbformat_minor": 4
}
